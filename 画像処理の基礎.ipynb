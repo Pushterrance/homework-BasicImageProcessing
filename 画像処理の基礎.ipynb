{
 "cells": [
  {
   "cell_type": "code",
   "execution_count": 5,
   "metadata": {},
   "outputs": [
    {
     "name": "stdout",
     "output_type": "stream",
     "text": [
      "4.5.1\n"
     ]
    }
   ],
   "source": [
    "import cv2 as cv\n",
    "print(cv.__version__)\n",
    "#python+OpenCVのプログラミング環境構築 "
   ]
  },
  {
   "cell_type": "code",
   "execution_count": 6,
   "metadata": {},
   "outputs": [
    {
     "name": "stdout",
     "output_type": "stream",
     "text": [
      "足し算\n",
      " [[ 6  8]\n",
      " [10 12]]\n",
      "引き算\n",
      " [[-4 -4]\n",
      " [-4 -4]]\n",
      "掛け算\n",
      " [[19 22]\n",
      " [43 50]]\n",
      "割り算\n",
      " [[0.2        0.33333333]\n",
      " [0.42857143 0.5       ]]\n"
     ]
    }
   ],
   "source": [
    "import numpy as np\n",
    "a = np.array([[1,2],[3,4]])\n",
    "b = np.array([[5,6],[7,8]])\n",
    "print('足し算\\n',a+b)\n",
    "print('引き算\\n',a-b)\n",
    "print('掛け算\\n',a.dot(b))\n",
    "print('割り算\\n',a/b)"
   ]
  },
  {
   "cell_type": "code",
   "execution_count": null,
   "metadata": {},
   "outputs": [
    {
     "name": "stdout",
     "output_type": "stream",
     "text": [
      "(480, 640, 3)\n"
     ]
    }
   ],
   "source": [
    "pica = cv.imread('./pic1.jpg')\n",
    "print(pica.shape)\n",
    "pica_big = cv.resize(pica,(960,1280))#画像の拡大\n",
    "pica_small = cv.resize(pica,(96,128))#画像の縮小\n",
    "x,y = pica.shape[:2] #画像の回転\n",
    "rotate = cv.getRotationMatrix2D((x/2,y/2),45,0.5) \n",
    "pica_rotate = cv.warpAffine(pica,rotate,(x,y))\n",
    "pica_bin = cv.imread('./pic1.jpg',0)#画像の二値化\n",
    "\n",
    "# cv.imshow('pica',pica)\n",
    "# cv.imshow('pica_big',pica_big)\n",
    "# cv.imshow('pica_small',pica_small)\n",
    "# cv.imshow('pica_rotate',pica_rotate)\n",
    "# cv.imshow('pica_bin',pica_bin)\n",
    "# cv.waitKey(0)\n",
    "# cv.destroyAllWindows()"
   ]
  },
  {
   "cell_type": "code",
   "execution_count": 8,
   "metadata": {},
   "outputs": [
    {
     "data": {
      "text/plain": [
       "True"
      ]
     },
     "execution_count": 8,
     "metadata": {},
     "output_type": "execute_result"
    }
   ],
   "source": [
    "picb = cv.imread('./pic2.jpg')#差分画像作成 \n",
    "diff = pica - picb\n",
    "diff = diff.astype(np.uint8)\n",
    "cv.imwrite('diff.jpg', diff)"
   ]
  },
  {
   "cell_type": "code",
   "execution_count": null,
   "metadata": {},
   "outputs": [],
   "source": []
  },
  {
   "cell_type": "code",
   "execution_count": null,
   "metadata": {},
   "outputs": [],
   "source": []
  }
 ],
 "metadata": {
  "kernelspec": {
   "display_name": "Python 3",
   "language": "python",
   "name": "python3"
  },
  "language_info": {
   "codemirror_mode": {
    "name": "ipython",
    "version": 3
   },
   "file_extension": ".py",
   "mimetype": "text/x-python",
   "name": "python",
   "nbconvert_exporter": "python",
   "pygments_lexer": "ipython3",
   "version": "3.8.5"
  }
 },
 "nbformat": 4,
 "nbformat_minor": 4
}

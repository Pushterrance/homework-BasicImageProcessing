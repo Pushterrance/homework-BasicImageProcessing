{
 "cells": [
  {
   "cell_type": "code",
   "execution_count": 1,
   "metadata": {},
   "outputs": [
    {
     "name": "stdout",
     "output_type": "stream",
     "text": [
      "4.5.1\n"
     ]
    }
   ],
   "source": [
    "import cv2 as cv\n",
    "print(cv.__version__)\n",
    "#python+OpenCVのプログラミング環境構築 "
   ]
  },
  {
   "cell_type": "code",
   "execution_count": 2,
   "metadata": {},
   "outputs": [
    {
     "name": "stdout",
     "output_type": "stream",
     "text": [
      "足し算\n",
      " [[ 6  8]\n",
      " [10 12]]\n",
      "引き算\n",
      " [[-4 -4]\n",
      " [-4 -4]]\n",
      "掛け算\n",
      " [[19 22]\n",
      " [43 50]]\n",
      "割り算\n",
      " [[0.2        0.33333333]\n",
      " [0.42857143 0.5       ]]\n"
     ]
    }
   ],
   "source": [
    "import numpy as np\n",
    "a = np.array([[1,2],[3,4]])\n",
    "b = np.array([[5,6],[7,8]])\n",
    "print('足し算\\n',a+b)\n",
    "print('引き算\\n',a-b)\n",
    "print('掛け算\\n',a.dot(b))\n",
    "print('割り算\\n',a/b)"
   ]
  },
  {
   "cell_type": "code",
   "execution_count": 3,
   "metadata": {},
   "outputs": [
    {
     "name": "stdout",
     "output_type": "stream",
     "text": [
      "(480, 640, 3)\n"
     ]
    },
    {
     "data": {
      "text/plain": [
       "True"
      ]
     },
     "execution_count": 3,
     "metadata": {},
     "output_type": "execute_result"
    }
   ],
   "source": [
    "pica = cv.imread('./pic1.jpg')\n",
    "print(pica.shape)\n",
    "pica_big = cv.resize(pica,(960,1280))#画像の拡大\n",
    "pica_small = cv.resize(pica,(96,128))#画像の縮小\n",
    "x,y = pica.shape[:2] #画像の回転\n",
    "rotate = cv.getRotationMatrix2D((x/2,y/2),45,0.5) \n",
    "pica_rotate = cv.warpAffine(pica,rotate,(x,y))\n",
    "pica_bin = cv.imread('./pic1.jpg',0)#画像の二値化\n",
    "\n",
    "# cv.imshow('pica',pica)\n",
    "# cv.imshow('pica_big',pica_big)\n",
    "# cv.imshow('pica_small',pica_small)\n",
    "# cv.imshow('pica_rotate',pica_rotate)\n",
    "# cv.imshow('pica_bin',pica_bin)\n",
    "\n",
    "# cv.imwrite('pica_big.jpg',pica_big)\n",
    "# cv.imwrite('pica_small.jpg',pica_small)\n",
    "# cv.imwrite('pica_rotate.jpg',pica_rotate)\n",
    "# cv.imwrite('pica_bin.jpg',pica_bin)\n",
    "\n",
    "# cv.waitKey(0)\n",
    "# cv.destroyAllWindows()"
   ]
  },
  {
   "cell_type": "code",
   "execution_count": 4,
   "metadata": {},
   "outputs": [],
   "source": [
    "picb = cv.imread('./pic2.jpg')#差分画像作成 \n",
    "diff = pica - picb\n",
    "diff = diff.astype(np.uint8)\n",
    "#cv.imwrite('diff.jpg', diff)"
   ]
  },
  {
   "cell_type": "code",
   "execution_count": 5,
   "metadata": {},
   "outputs": [],
   "source": [
    "orb = cv.ORB_create()#特徴量の比較\n",
    "kps = orb.detect(pica_bin)\n",
    "orb_result = cv.drawKeypoints(pica_bin, kps, None, -1, cv.DrawMatchesFlags_DEFAULT)\n",
    "# cv.imshow(\"result\", result)\n",
    "# cv.waitKey(0)\n",
    "# cv.imwrite('orb_result.jpg', orb_result)"
   ]
  },
  {
   "cell_type": "code",
   "execution_count": 6,
   "metadata": {},
   "outputs": [],
   "source": [
    "picb_bin = cv.imread('./pic2.jpg',0)\n",
    "kp1, des1 = orb.detectAndCompute(pica_bin,None)\n",
    "kp2, des2 = orb.detectAndCompute(picb_bin,None)\n",
    "bf = cv.BFMatcher(cv.NORM_HAMMING, crossCheck=True)\n",
    "Brute_Force_matches = bf.match(des1,des2)\n",
    "Brute_Force_result = cv.drawMatches(pica_bin, kp1, picb_bin, kp2, Brute_Force_matches, None)\n",
    "\n",
    "#cv.imshow(\"orb-match\", result)\n",
    "#cv.waitKey(0)\n",
    "#cv.imwrite('Brute_Force_result.jpg', Brute_Force_result)"
   ]
  },
  {
   "cell_type": "code",
   "execution_count": 9,
   "metadata": {},
   "outputs": [
    {
     "data": {
      "text/plain": [
       "True"
      ]
     },
     "execution_count": 9,
     "metadata": {},
     "output_type": "execute_result"
    }
   ],
   "source": [
    "bf = cv.BFMatcher(cv.NORM_HAMMING, crossCheck=True)\n",
    "matches = bf.knnMatch(des1, des2, k=1)\n",
    "\n",
    "while [] in matches:\n",
    "    matches.remove([])\n",
    "matches = sorted(matches, key = lambda x:x[0].distance)\n",
    "\n",
    "KNN_result = cv.drawMatchesKnn(pica_bin, kp1, picb_bin, kp2, \n",
    "                               matches[0:15], None, matchColor = (0,255,0), singlePointColor = (255,0,255))\n",
    "#cv.imwrite('KNN_result.jpg',KNN_result)"
   ]
  },
  {
   "cell_type": "code",
   "execution_count": null,
   "metadata": {},
   "outputs": [],
   "source": []
  }
 ],
 "metadata": {
  "kernelspec": {
   "display_name": "Python 3",
   "language": "python",
   "name": "python3"
  },
  "language_info": {
   "codemirror_mode": {
    "name": "ipython",
    "version": 3
   },
   "file_extension": ".py",
   "mimetype": "text/x-python",
   "name": "python",
   "nbconvert_exporter": "python",
   "pygments_lexer": "ipython3",
   "version": "3.8.5"
  }
 },
 "nbformat": 4,
 "nbformat_minor": 4
}
